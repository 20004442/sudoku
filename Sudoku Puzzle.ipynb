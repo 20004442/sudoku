{
 "cells": [
  {
   "cell_type": "code",
   "execution_count": 1,
   "metadata": {},
   "outputs": [],
   "source": [
    "%matplotlib inline\n",
    "import matplotlib.pyplot as plt\n",
    "import random\n",
    "import math\n",
    "import sys"
   ]
  },
  {
   "cell_type": "code",
   "execution_count": 2,
   "metadata": {},
   "outputs": [],
   "source": [
    "rows = 'ABCDEFGHI'\n",
    "cols = '123456789'"
   ]
  },
  {
   "cell_type": "code",
   "execution_count": 3,
   "metadata": {},
   "outputs": [],
   "source": [
    "def cross(a,b):\n",
    "    return [s+t for s in a for t in b]\n",
    "boxes= cross(rows, cols)\n",
    "row_units = [cross(r,cols) for r in rows]\n",
    "column_units = [cross(rows,c) for c in cols]\n",
    "square_units = [cross(rs,cs) for rs in ('ABC','DEF','GHI') for cs in ('123','456','789')]"
   ]
  },
  {
   "cell_type": "code",
   "execution_count": 4,
   "metadata": {},
   "outputs": [],
   "source": [
    "unitlist = row_units + column_units + square_units\n",
    "units = dict((s,[u for u in unitlist if s in u]) for s in boxes)\n",
    "peers = dict((s,set(sum(units[s],[]))-set([s])) for s in boxes)"
   ]
  },
  {
   "cell_type": "code",
   "execution_count": 5,
   "metadata": {},
   "outputs": [],
   "source": [
    "puzzle = '53..7....6..195....98....6.8...6...34..8.3..17...2...6.6....28....419..5....8..79'"
   ]
  },
  {
   "cell_type": "code",
   "execution_count": 6,
   "metadata": {},
   "outputs": [],
   "source": [
    "def display(values):\n",
    "    width=1+max(len(values[s])for s in boxes)\n",
    "    line = '+'.join(['-'*(width*3)]*3)\n",
    "    for r in rows:\n",
    "        print(''.join(values[r+c].center(width)+('|'if c in '36' else '')for c in cols))\n",
    "        if r in 'CF':print(line)\n",
    "    return"
   ]
  },
  {
   "cell_type": "code",
   "execution_count": 7,
   "metadata": {},
   "outputs": [],
   "source": [
    "def elimination(values):\n",
    "    solved_values = [box for box in values.keys() if len(values[box])==1]\n",
    "    for box in solved_values:\n",
    "        digit = values[box]\n",
    "        for peer in peers[box]:\n",
    "            values[peer] = values[peer].replace(digit,'')\n",
    "    return values"
   ]
  },
  {
   "cell_type": "code",
   "execution_count": 8,
   "metadata": {},
   "outputs": [],
   "source": [
    "def only_choice(values):\n",
    "    for unit in unitlist:\n",
    "        for digit in '123456789':\n",
    "            dplaces = [box for box in unit if digit in values[box]]\n",
    "            if len(dplaces) == 1:\n",
    "                values[dplaces[0]] = digit\n",
    "    return values"
   ]
  },
  {
   "cell_type": "code",
   "execution_count": 9,
   "metadata": {},
   "outputs": [],
   "source": [
    "def grid_values(grid):\n",
    "    assert len(grid) == 81\n",
    "    boxes = cross(rows,cols)\n",
    "    return dict(zip(boxes,grid))"
   ]
  },
  {
   "cell_type": "code",
   "execution_count": 10,
   "metadata": {},
   "outputs": [],
   "source": [
    "def grid_values_improved(grid):\n",
    "    values = []\n",
    "    all_digits = '123456789'\n",
    "    for c in grid:\n",
    "        if c == '.':\n",
    "            values.append(all_digits)\n",
    "        elif c in all_digits:\n",
    "                values.append(c)\n",
    "    assert len(values) == 81\n",
    "    boxes = cross(rows,cols)\n",
    "    return dict(zip(boxes,values))"
   ]
  },
  {
   "cell_type": "code",
   "execution_count": 11,
   "metadata": {},
   "outputs": [],
   "source": [
    "def reduce_puzzle(values):\n",
    "    stalled =False\n",
    "    while not stalled:\n",
    "        solved_values_before = len([box for box in values.keys() if len(values[box])==1])\n",
    "        elimination(values)\n",
    "        only_choice(values)\n",
    "        solved_values_after = len([box for box in values.keys() if len(values[box])==1])\n",
    "        stalled = solved_values_after == solved_values_before\n",
    "        if len([box for box in values.keys() if len(values[box])==1])==0:\n",
    "            return False\n",
    "    return values"
   ]
  },
  {
   "cell_type": "code",
   "execution_count": 12,
   "metadata": {},
   "outputs": [],
   "source": [
    "def search(values):\n",
    "    values_reduced = reduce_puzzle(values)\n",
    "    if not values_reduced:\n",
    "        return False\n",
    "    else:\n",
    "        values=values_reduced\n",
    "    if len([box for box in values.keys() if len(values[box])==1])==81:\n",
    "        return values\n",
    "    \n",
    "    possibility_count_list = [(len(values[box]),box) for box in values.keys() if len(values[box])>1]\n",
    "    \n",
    "    possibility_count_list.sort()\n",
    "    for(_,t_box_min) in possibility_count_list:\n",
    "        for i_digit in values[t_box_min]:\n",
    "            new_values = values.copy()\n",
    "            new_values[t_box_min]=i_digit\n",
    "            new_values = search(new_values)\n",
    "            if new_values:\n",
    "                return new_values\n",
    "            \n",
    "    return values"
   ]
  },
  {
   "cell_type": "code",
   "execution_count": 13,
   "metadata": {},
   "outputs": [],
   "source": [
    "sudoku=grid_values_improved(puzzle)"
   ]
  },
  {
   "cell_type": "code",
   "execution_count": 14,
   "metadata": {},
   "outputs": [],
   "source": [
    "result = search(sudoku)"
   ]
  },
  {
   "cell_type": "code",
   "execution_count": 15,
   "metadata": {},
   "outputs": [
    {
     "name": "stdout",
     "output_type": "stream",
     "text": [
      "5 3 4 |6 7 8 |9 1 2 \n",
      "6 7 2 |1 9 5 |3 4 8 \n",
      "1 9 8 |3 4 2 |5 6 7 \n",
      "------+------+------\n",
      "8 5 9 |7 6 1 |4 2 3 \n",
      "4 2 6 |8 5 3 |7 9 1 \n",
      "7 1 3 |9 2 4 |8 5 6 \n",
      "------+------+------\n",
      "9 6 1 |5 3 7 |2 8 4 \n",
      "2 8 7 |4 1 9 |6 3 5 \n",
      "3 4 5 |2 8 6 |1 7 9 \n"
     ]
    }
   ],
   "source": [
    "display(result)"
   ]
  },
  {
   "cell_type": "code",
   "execution_count": 17,
   "metadata": {},
   "outputs": [
    {
     "name": "stdout",
     "output_type": "stream",
     "text": [
      "{'A1': '5', 'A2': '3', 'A3': '4', 'A4': '6', 'A5': '7', 'A6': '8', 'A7': '9', 'A8': '1', 'A9': '2', 'B1': '6', 'B2': '7', 'B3': '2', 'B4': '1', 'B5': '9', 'B6': '5', 'B7': '3', 'B8': '4', 'B9': '8', 'C1': '1', 'C2': '9', 'C3': '8', 'C4': '3', 'C5': '4', 'C6': '2', 'C7': '5', 'C8': '6', 'C9': '7', 'D1': '8', 'D2': '5', 'D3': '9', 'D4': '7', 'D5': '6', 'D6': '1', 'D7': '4', 'D8': '2', 'D9': '3', 'E1': '4', 'E2': '2', 'E3': '6', 'E4': '8', 'E5': '5', 'E6': '3', 'E7': '7', 'E8': '9', 'E9': '1', 'F1': '7', 'F2': '1', 'F3': '3', 'F4': '9', 'F5': '2', 'F6': '4', 'F7': '8', 'F8': '5', 'F9': '6', 'G1': '9', 'G2': '6', 'G3': '1', 'G4': '5', 'G5': '3', 'G6': '7', 'G7': '2', 'G8': '8', 'G9': '4', 'H1': '2', 'H2': '8', 'H3': '7', 'H4': '4', 'H5': '1', 'H6': '9', 'H7': '6', 'H8': '3', 'H9': '5', 'I1': '3', 'I2': '4', 'I3': '5', 'I4': '2', 'I5': '8', 'I6': '6', 'I7': '1', 'I8': '7', 'I9': '9'}\n"
     ]
    }
   ],
   "source": [
    "print(result)"
   ]
  },
  {
   "cell_type": "code",
   "execution_count": null,
   "metadata": {},
   "outputs": [],
   "source": []
  }
 ],
 "metadata": {
  "kernelspec": {
   "display_name": "Python 3",
   "language": "python",
   "name": "python3"
  },
  "language_info": {
   "codemirror_mode": {
    "name": "ipython",
    "version": 3
   },
   "file_extension": ".py",
   "mimetype": "text/x-python",
   "name": "python",
   "nbconvert_exporter": "python",
   "pygments_lexer": "ipython3",
   "version": "3.8.5"
  }
 },
 "nbformat": 4,
 "nbformat_minor": 4
}
